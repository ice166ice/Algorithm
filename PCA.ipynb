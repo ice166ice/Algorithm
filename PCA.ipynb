{
 "cells": [
  {
   "cell_type": "code",
   "execution_count": 71,
   "id": "a8e9f2fd-527a-4483-83d9-669037f97eae",
   "metadata": {},
   "outputs": [
    {
     "name": "stdout",
     "output_type": "stream",
     "text": [
      "<class 'numpy.ndarray'> <class 'list'>\n"
     ]
    },
    {
     "data": {
      "text/plain": [
       "array([3.74540119, 9.50714306, 7.31993942, 5.98658484, 1.5601864 ,\n",
       "       1.5599452 , 0.58083612, 8.66176146, 6.01115012, 7.08072578,\n",
       "       0.20584494, 9.69909852, 8.32442641, 2.12339111, 1.81824967,\n",
       "       1.8340451 , 3.04242243, 5.24756432, 4.31945019, 2.9122914 ,\n",
       "       6.11852895, 1.39493861, 2.92144649, 3.66361843, 4.56069984,\n",
       "       7.85175961, 1.99673782, 5.14234438, 5.92414569, 0.46450413,\n",
       "       6.07544852, 1.70524124, 0.65051593, 9.48885537, 9.65632033,\n",
       "       8.08397348, 3.04613769, 0.97672114, 6.84233027, 4.40152494,\n",
       "       1.22038235, 4.9517691 , 0.34388521, 9.09320402, 2.58779982,\n",
       "       6.62522284, 3.11711076, 5.20068021, 5.46710279, 1.84854456,\n",
       "       9.69584628, 7.75132823, 9.39498942, 8.9482735 , 5.97899979,\n",
       "       9.21874235, 0.88492502, 1.95982862, 0.45227289, 3.25330331,\n",
       "       3.8867729 , 2.71349032, 8.28737509, 3.56753327, 2.8093451 ,\n",
       "       5.42696083, 1.40924225, 8.02196981, 0.74550644, 9.86886937,\n",
       "       7.72244769, 1.98715682, 0.05522117, 8.15461428, 7.06857344,\n",
       "       7.29007168, 7.71270347, 0.74044652, 3.58465729, 1.1586906 ,\n",
       "       8.63103426, 6.23298127, 3.30898025, 0.6355835 , 3.10982322,\n",
       "       3.25183322, 7.29606178, 6.37557471, 8.87212743, 4.72214925,\n",
       "       1.19594246, 7.13244787, 7.60785049, 5.61277198, 7.7096718 ,\n",
       "       4.93795596, 5.22732829, 4.27541018, 0.25419127, 1.07891427])"
      ]
     },
     "execution_count": 71,
     "metadata": {},
     "output_type": "execute_result"
    },
    {
     "data": {
      "image/png": "[encoded data removed]",
      "text/plain": [
       "<Figure size 640x480 with 1 Axes>"
      ]
     },
     "metadata": {},
     "output_type": "display_data"
    }
   ],
   "source": [
    "#导入库\n",
    "import numpy as np\n",
    "import matplotlib.pyplot as plt\n",
    "%matplotlib inline \n",
    "# 魔法命令后面不能直接添加注释\n",
    "# 魔法命令，让Matplotlib绘制的图表直接嵌入到Notebook的输出单元格中，而不是弹出一个单独的窗口。\n",
    "import pandas as pd\n",
    "\n",
    "#导入数据\n",
    "np.random.seed(42)\n",
    "x1 = np.random.uniform(low=0,high=10,size=100)#行向量\n",
    "x2 = [xi*3+np.random.normal(0,2) for xi in x1]#行\n",
    "print(type(x1),type(x2))\n",
    "plt.scatter(x1,x2);"
   ]
  },
  {
   "cell_type": "code",
   "execution_count": 61,
   "id": "09cfa3c4-b67a-499d-9521-10d0dd7ce86e",
   "metadata": {},
   "outputs": [],
   "source": [
    "#计算均值并减去均值\n",
    "data = pd.DataFrame([x1,x2]).transpose()#转置\n",
    "data.columns = ['x1', 'x2']\n",
    "#data.head()\n",
    "data_sub_mean = data-data.mean()"
   ]
  },
  {
   "cell_type": "code",
   "execution_count": 85,
   "id": "595aa8d1-19a2-4bdf-aee3-ab8cf72ac400",
   "metadata": {},
   "outputs": [
    {
     "data": {
      "text/plain": [
       "numpy.ndarray"
      ]
     },
     "execution_count": 85,
     "metadata": {},
     "output_type": "execute_result"
    }
   ],
   "source": [
    "#计算协方差矩阵\n",
    "data_cov = 1/99*np.dot(data_sub_mean.transpose().values,data_sub_mean.values)#转换为np再点乘\n",
    "#注意这里是样本方差的计算方法,是1/(n-1)\n",
    "data_cov   #numpy.ndarray\n",
    "#也可以这样算\n",
    "# cov = np.cov([data_sub_mean['x1'], data_sub_mean['x2']])"
   ]
  },
  {
   "cell_type": "code",
   "execution_count": 91,
   "id": "be7e8bc8-ffe5-4dcc-af1e-3cee82981478",
   "metadata": {},
   "outputs": [
    {
     "name": "stdout",
     "output_type": "stream",
     "text": [
      "[ 0.33297363 86.61794719]\n",
      "[[-0.94936397 -0.31417837]\n",
      " [ 0.31417837 -0.94936397]]\n"
     ]
    },
    {
     "data": {
      "text/plain": [
       "0.9961705566054647"
      ]
     },
     "execution_count": 91,
     "metadata": {},
     "output_type": "execute_result"
    }
   ],
   "source": [
    "#计算特征向量和特征值\n",
    "eigenvalues, eigenvectors = np.linalg.eig(data_cov)\n",
    "print(eigenvalues)#也就找到了其相似对角化的对角矩阵，主要是特征2\n",
    "print(eigenvectors)\n",
    "eigenvalues[1]/sum(eigenvalues)"
   ]
  },
  {
   "cell_type": "code",
   "execution_count": 103,
   "id": "ad8362d2-3a27-40f2-8414-60179fb3894e",
   "metadata": {},
   "outputs": [
    {
     "name": "stdout",
     "output_type": "stream",
     "text": [
      "[[-0.31417837 -0.94936397]\n",
      " [-0.94936397  0.31417837]]\n",
      "           0         1\n",
      "0   2.857085  0.061907\n",
      "1 -14.630088 -0.220019\n",
      "2  -8.455521  0.040458\n",
      "3  -0.291012 -1.256997\n",
      "4  10.349701 -0.115900\n",
      "0     2.857085\n",
      "1   -14.630088\n",
      "2    -8.455521\n",
      "3    -0.291012\n",
      "4    10.349701\n",
      "dtype: float64\n"
     ]
    }
   ],
   "source": [
    "#特征降维，最后的结果\n",
    "indices = np.argsort(eigenvalues)[::-1]#返回索引的降序排序\n",
    "#对特征向量按照特征值降序排序\n",
    "eigenvectors_f = eigenvectors[:,indices]\n",
    "print(eigenvectors_f)\n",
    "#派生新数据\n",
    "transformed = data_sub_mean.dot(eigenvectors_f)#将原数据投影到新的方向上\n",
    "print(transformed.head(5))\n",
    "transformed2 = data_sub_mean.dot(eigenvectors_f[:,0])#将原数据投影到新的最大主成分方向上\n",
    "print(transformed2.head(5))"
   ]
  },
  {
   "cell_type": "code",
   "execution_count": null,
   "id": "0eafa110-aab6-4ccc-b38e-d755fb3e77ad",
   "metadata": {},
   "outputs": [],
   "source": []
  }
 ],
 "metadata": {
  "kernelspec": {
   "display_name": "Python 3 (ipykernel)",
   "language": "python",
   "name": "python3"
  },
  "language_info": {
   "codemirror_mode": {
    "name": "ipython",
    "version": 3
   },
   "file_extension": ".py",
   "mimetype": "text/x-python",
   "name": "python",
   "nbconvert_exporter": "python",
   "pygments_lexer": "ipython3",
   "version": "3.12.4"
  }
 },
 "nbformat": 4,
 "nbformat_minor": 5
}
